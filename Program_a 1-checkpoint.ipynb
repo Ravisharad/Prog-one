{
 "cells": [
  {
   "cell_type": "code",
   "execution_count": null,
   "id": "9ca2a754",
   "metadata": {},
   "outputs": [],
   "source": [
    "# q1 .Write a Python program to print \"Hello Python\"?"
   ]
  },
  {
   "cell_type": "code",
   "execution_count": 5,
   "id": "ec5bfc51",
   "metadata": {},
   "outputs": [
    {
     "name": "stdout",
     "output_type": "stream",
     "text": [
      "Hello Python\n"
     ]
    }
   ],
   "source": [
    "print(\"Hello Python\")\n",
    "    "
   ]
  },
  {
   "cell_type": "code",
   "execution_count": null,
   "id": "f08e08b5",
   "metadata": {},
   "outputs": [],
   "source": [
    "# q 2.\tWrite a Python program to do arithmetical operations addition and division.?"
   ]
  },
  {
   "cell_type": "code",
   "execution_count": 10,
   "id": "d12addbf",
   "metadata": {},
   "outputs": [
    {
     "name": "stdout",
     "output_type": "stream",
     "text": [
      "Enter first value:21\n",
      "Enter second value:24\n",
      "sum of 21.0 and 24.0 is 45.0 \n"
     ]
    }
   ],
   "source": [
    "num1 = float(input(\"Enter first value:\"))\n",
    "num2 = float(input(\"Enter second value:\"))\n",
    "add = num1 + num2\n",
    "\n",
    "print(\"sum of {0} and {1} is {2} \".format(num1,num2,add))"
   ]
  },
  {
   "cell_type": "code",
   "execution_count": 12,
   "id": "611a708a",
   "metadata": {},
   "outputs": [
    {
     "name": "stdout",
     "output_type": "stream",
     "text": [
      "Enter first value:300\n",
      "Enter second value:20\n",
      "divison of 300.0 and 20.0 is 15.0\n"
     ]
    }
   ],
   "source": [
    "num1 = float(input(\"Enter first value:\"))\n",
    "num2 = float(input(\"Enter second value:\"))\n",
    "div = num1/num2\n",
    "\n",
    "print(\"divison of {0} and {1} is {2}\".format(num1,num2,div))"
   ]
  },
  {
   "cell_type": "code",
   "execution_count": null,
   "id": "94870e2f",
   "metadata": {},
   "outputs": [],
   "source": [
    "#q 3.\tWrite a Python program to find the area of a triangle?\n"
   ]
  },
  {
   "cell_type": "code",
   "execution_count": 15,
   "id": "dde7c72b",
   "metadata": {},
   "outputs": [
    {
     "name": "stdout",
     "output_type": "stream",
     "text": [
      "Enter first value:50\n",
      "Enter second value:40\n",
      "Enter third value:60\n",
      "the area of triangle is 992.157\n"
     ]
    }
   ],
   "source": [
    "l = float(input(\"Enter first value:\"))\n",
    "m = float(input(\"Enter second value:\"))\n",
    "n = float(input(\"Enter third value:\"))\n",
    "\n",
    "# semi perimeter\n",
    "s = (l + m + n)/2\n",
    "\n",
    "# area formula\n",
    "area = (s*(s-l)*(s-m)*(s-n))**0.5\n",
    "\n",
    "\n",
    "\n",
    "print('the area of triangle is %0.3f'%area)\n"
   ]
  },
  {
   "cell_type": "code",
   "execution_count": null,
   "id": "c66d1490",
   "metadata": {},
   "outputs": [],
   "source": [
    "# q4.\tWrite a Python program to swap two variables?"
   ]
  },
  {
   "cell_type": "code",
   "execution_count": 18,
   "id": "072c8cb2",
   "metadata": {},
   "outputs": [
    {
     "name": "stdout",
     "output_type": "stream",
     "text": [
      "Enter first value:10\n",
      "Enter second value21\n",
      "New value of a : 21.0\n",
      "New value of b: 10.0\n"
     ]
    }
   ],
   "source": [
    "a = float(input(\"Enter first value:\"))\n",
    "b = float (input(\"Enter second value\"))\n",
    "a,b = b,a\n",
    "print('New value of a :', a)\n",
    "print('New value of b:' ,b)"
   ]
  },
  {
   "cell_type": "code",
   "execution_count": null,
   "id": "e8fa1afc",
   "metadata": {},
   "outputs": [],
   "source": [
    "# q 5 \n",
    "Write a Python program to generate a random number?"
   ]
  },
  {
   "cell_type": "code",
   "execution_count": 19,
   "id": "2e3c74f2",
   "metadata": {},
   "outputs": [],
   "source": [
    "import numpy as np"
   ]
  },
  {
   "cell_type": "code",
   "execution_count": 38,
   "id": "ef05e198",
   "metadata": {},
   "outputs": [
    {
     "data": {
      "text/plain": [
       "62"
      ]
     },
     "execution_count": 38,
     "metadata": {},
     "output_type": "execute_result"
    }
   ],
   "source": [
    "s = np.random.randint(10,1000,dtype = int)\n",
    "s"
   ]
  },
  {
   "cell_type": "code",
   "execution_count": null,
   "id": "5852b881",
   "metadata": {},
   "outputs": [],
   "source": [
    "\n"
   ]
  }
 ],
 "metadata": {
  "kernelspec": {
   "display_name": "Python 3",
   "language": "python",
   "name": "python3"
  },
  "language_info": {
   "codemirror_mode": {
    "name": "ipython",
    "version": 3
   },
   "file_extension": ".py",
   "mimetype": "text/x-python",
   "name": "python",
   "nbconvert_exporter": "python",
   "pygments_lexer": "ipython3",
   "version": "3.8.8"
  }
 },
 "nbformat": 4,
 "nbformat_minor": 5
}
